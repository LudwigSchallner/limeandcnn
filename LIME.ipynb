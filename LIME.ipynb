{
 "cells": [
  {
   "cell_type": "code",
   "execution_count": 1,
   "metadata": {},
   "outputs": [
    {
     "name": "stderr",
     "output_type": "stream",
     "text": [
      "Using TensorFlow backend.\n"
     ]
    },
    {
     "name": "stdout",
     "output_type": "stream",
     "text": [
      "Notebook run using keras: 2.2.4\n"
     ]
    }
   ],
   "source": [
    "import os\n",
    "import keras\n",
    "import random\n",
    "from keras.applications.inception_v3 import preprocess_input# import inception_v3 as inc_net\n",
    "from keras.preprocessing import image\n",
    "from keras.models import load_model\n",
    "from skimage.io import imread\n",
    "from skimage.segmentation import mark_boundaries\n",
    "#from PIL import Image\n",
    "\n",
    "import matplotlib.pyplot as plt\n",
    "%matplotlib inline\n",
    "import numpy as np\n",
    "\n",
    "print('Notebook run using keras:', keras.__version__)"
   ]
  },
  {
   "cell_type": "code",
   "execution_count": 6,
   "metadata": {},
   "outputs": [],
   "source": [
    "img_size = 100\n",
    "data_type = 'catdog'\n",
    "trained_color = \"grayscale\"\n",
    "# felzenszwalb, slic, quickshift, watershed (<-- need to be grey)\n",
    "# LIME default = slic\n",
    "#superpixel_fn = \"SLIC\"\n",
    "path_to_labels = os.path.join('labels', data_type+'.txt')\n",
    "file_name = os.path.join('trainedModels',\n",
    "                         data_type,\n",
    "                         'completetrain',\n",
    "                         '16-10-18 1756__Epochs11_ImageSize299_BatchSize16')\n",
    "file_name = \"modelcatdog\"\n",
    "\n",
    "def getHighestID(preds):\n",
    "    id = 0\n",
    "    max = -1\n",
    "    for i in range(len(preds)):\n",
    "        if preds[i]>max:\n",
    "            max = preds[i]\n",
    "            id=i\n",
    "    return id\n",
    "\n",
    "def getLabels():\n",
    "    with open(path_to_labels, 'r') as f:\n",
    "     myLabels = [line.strip() for line in f]\n",
    "    return myLabels\n",
    "\n",
    "def getLabelById(id):\n",
    "    with open(path_to_labels) as fp:\n",
    "        for i, line in enumerate(fp):\n",
    "            if i == id:\n",
    "                return line.replace('\\n','')\n",
    "    raise Exception('ID is not in file')\n",
    "    \n",
    "def decode_prediction(preds):\n",
    "    label_list = getLabels()    \n",
    "    decoded_list = list()\n",
    "    decoded_list.append([])\n",
    "    for i in range(len(label_list)):\n",
    "        decoded_list[0].append([label_list[i],preds[i]])\n",
    "    return decoded_list\n",
    "\n",
    "def getIdByLabel(label):\n",
    "    with open(path_to_labels) as fp:\n",
    "        for i, line in enumerate(fp):\n",
    "            if label == line.replace('\\n',''):\n",
    "                return i\n",
    "    raise Exception('Label is not in file')\n",
    "\n",
    "def transform_img_fn(path_list):\n",
    "    out = []\n",
    "    for img_path in path_list:\n",
    "        img = image.load_img(img_path, target_size=(img_size, img_size))\n",
    "        x = image.img_to_array(img)\n",
    "        x = np.expand_dims(x, axis=0)\n",
    "        x = preprocess_input(x)\n",
    "        out.append(x)\n",
    "    return np.vstack(out)\n",
    "\n",
    "def getRandomImage():\n",
    "    dir_list = [x[0] for x in os.walk(os.path.join('data',data_type,'test'))][1:]\n",
    "    output = list()\n",
    "    only_paths = list()\n",
    "    for x in dir_list:\n",
    "        output.append([random.choice(os.listdir(x)),os.path.basename(x)])\n",
    "        only_paths.append(os.path.join(x,random.choice(os.listdir(x))))\n",
    "    return output, only_paths    \n",
    "\n",
    "\n"
   ]
  },
  {
   "cell_type": "code",
   "execution_count": 3,
   "metadata": {},
   "outputs": [
    {
     "name": "stdout",
     "output_type": "stream",
     "text": [
      "Model loaded> modelcatdog\n"
     ]
    }
   ],
   "source": [
    "my_model = load_model(file_name+\".h5\")\n",
    "print('Model loaded> '+file_name)"
   ]
  },
  {
   "cell_type": "code",
   "execution_count": 4,
   "metadata": {},
   "outputs": [],
   "source": [
    "output, images_paths = getRandomImage()\n",
    "images = transform_img_fn(images_paths)\n",
    "preds = my_model.predict(images)"
   ]
  },
  {
   "cell_type": "code",
   "execution_count": 7,
   "metadata": {
    "scrolled": false
   },
   "outputs": [
    {
     "ename": "IndexError",
     "evalue": "index 1 is out of bounds for axis 0 with size 1",
     "output_type": "error",
     "traceback": [
      "\u001b[0;31m---------------------------------------------------------------------------\u001b[0m",
      "\u001b[0;31mIndexError\u001b[0m                                Traceback (most recent call last)",
      "\u001b[0;32m<ipython-input-7-3d681498c4e4>\u001b[0m in \u001b[0;36m<module>\u001b[0;34m\u001b[0m\n\u001b[1;32m      1\u001b[0m \u001b[0;32mfor\u001b[0m \u001b[0mi\u001b[0m \u001b[0;32min\u001b[0m \u001b[0mrange\u001b[0m\u001b[0;34m(\u001b[0m\u001b[0mlen\u001b[0m\u001b[0;34m(\u001b[0m\u001b[0mimages\u001b[0m\u001b[0;34m)\u001b[0m\u001b[0;34m)\u001b[0m\u001b[0;34m:\u001b[0m\u001b[0;34m\u001b[0m\u001b[0m\n\u001b[0;32m----> 2\u001b[0;31m     \u001b[0mpreds_with_labels\u001b[0m \u001b[0;34m=\u001b[0m \u001b[0mdecode_prediction\u001b[0m\u001b[0;34m(\u001b[0m\u001b[0mpreds\u001b[0m\u001b[0;34m[\u001b[0m\u001b[0mi\u001b[0m\u001b[0;34m]\u001b[0m\u001b[0;34m)\u001b[0m\u001b[0;34m[\u001b[0m\u001b[0;36m0\u001b[0m\u001b[0;34m]\u001b[0m\u001b[0;34m\u001b[0m\u001b[0m\n\u001b[0m\u001b[1;32m      3\u001b[0m     \u001b[0mpreds_with_labels\u001b[0m \u001b[0;34m=\u001b[0m \u001b[0msorted\u001b[0m\u001b[0;34m(\u001b[0m\u001b[0mpreds_with_labels\u001b[0m\u001b[0;34m,\u001b[0m\u001b[0mkey\u001b[0m\u001b[0;34m=\u001b[0m\u001b[0;32mlambda\u001b[0m \u001b[0ml\u001b[0m\u001b[0;34m:\u001b[0m\u001b[0ml\u001b[0m\u001b[0;34m[\u001b[0m\u001b[0;36m1\u001b[0m\u001b[0;34m]\u001b[0m\u001b[0;34m,\u001b[0m \u001b[0mreverse\u001b[0m\u001b[0;34m=\u001b[0m\u001b[0;32mTrue\u001b[0m\u001b[0;34m)\u001b[0m\u001b[0;34m\u001b[0m\u001b[0m\n\u001b[1;32m      4\u001b[0m     \u001b[0mplt\u001b[0m\u001b[0;34m.\u001b[0m\u001b[0mfigure\u001b[0m\u001b[0;34m(\u001b[0m\u001b[0;34m)\u001b[0m\u001b[0;34m\u001b[0m\u001b[0m\n\u001b[1;32m      5\u001b[0m     \u001b[0mplt\u001b[0m\u001b[0;34m.\u001b[0m\u001b[0mimshow\u001b[0m\u001b[0;34m(\u001b[0m\u001b[0mimages\u001b[0m\u001b[0;34m[\u001b[0m\u001b[0mi\u001b[0m\u001b[0;34m]\u001b[0m\u001b[0;34m/\u001b[0m\u001b[0;36m2\u001b[0m \u001b[0;34m+\u001b[0m\u001b[0;36m0.5\u001b[0m\u001b[0;34m)\u001b[0m\u001b[0;34m\u001b[0m\u001b[0m\n",
      "\u001b[0;32m<ipython-input-6-c156b2733e54>\u001b[0m in \u001b[0;36mdecode_prediction\u001b[0;34m(preds)\u001b[0m\n\u001b[1;32m     38\u001b[0m     \u001b[0mdecoded_list\u001b[0m\u001b[0;34m.\u001b[0m\u001b[0mappend\u001b[0m\u001b[0;34m(\u001b[0m\u001b[0;34m[\u001b[0m\u001b[0;34m]\u001b[0m\u001b[0;34m)\u001b[0m\u001b[0;34m\u001b[0m\u001b[0m\n\u001b[1;32m     39\u001b[0m     \u001b[0;32mfor\u001b[0m \u001b[0mi\u001b[0m \u001b[0;32min\u001b[0m \u001b[0mrange\u001b[0m\u001b[0;34m(\u001b[0m\u001b[0mlen\u001b[0m\u001b[0;34m(\u001b[0m\u001b[0mlabel_list\u001b[0m\u001b[0;34m)\u001b[0m\u001b[0;34m)\u001b[0m\u001b[0;34m:\u001b[0m\u001b[0;34m\u001b[0m\u001b[0m\n\u001b[0;32m---> 40\u001b[0;31m         \u001b[0mdecoded_list\u001b[0m\u001b[0;34m[\u001b[0m\u001b[0;36m0\u001b[0m\u001b[0;34m]\u001b[0m\u001b[0;34m.\u001b[0m\u001b[0mappend\u001b[0m\u001b[0;34m(\u001b[0m\u001b[0;34m[\u001b[0m\u001b[0mlabel_list\u001b[0m\u001b[0;34m[\u001b[0m\u001b[0mi\u001b[0m\u001b[0;34m]\u001b[0m\u001b[0;34m,\u001b[0m\u001b[0mpreds\u001b[0m\u001b[0;34m[\u001b[0m\u001b[0mi\u001b[0m\u001b[0;34m]\u001b[0m\u001b[0;34m]\u001b[0m\u001b[0;34m)\u001b[0m\u001b[0;34m\u001b[0m\u001b[0m\n\u001b[0m\u001b[1;32m     41\u001b[0m     \u001b[0mprint\u001b[0m\u001b[0;34m(\u001b[0m\u001b[0mdecoded_list\u001b[0m\u001b[0;34m)\u001b[0m\u001b[0;34m\u001b[0m\u001b[0m\n\u001b[1;32m     42\u001b[0m     \u001b[0;32mreturn\u001b[0m \u001b[0mdecoded_list\u001b[0m\u001b[0;34m\u001b[0m\u001b[0m\n",
      "\u001b[0;31mIndexError\u001b[0m: index 1 is out of bounds for axis 0 with size 1"
     ]
    }
   ],
   "source": [
    "for i in range(len(images)):\n",
    "    preds_with_labels = decode_prediction(preds[i])[0]\n",
    "    preds_with_labels = sorted(preds_with_labels,key=lambda l:l[1], reverse=True)\n",
    "    plt.figure()\n",
    "    plt.imshow(images[i]/2 +0.5)\n",
    "    plt.show()\n",
    "    for x in preds_with_labels[:5]:\n",
    "        print(x)\n",
    "    isright = True if preds_with_labels[0][0] == output[i][1] else False\n",
    "    print(isright)\n",
    "    "
   ]
  },
  {
   "cell_type": "code",
   "execution_count": null,
   "metadata": {},
   "outputs": [],
   "source": [
    "%load_ext autoreload\n",
    "%autoreload 2\n",
    "import os,sys\n",
    "try:\n",
    "    import lime\n",
    "except:\n",
    "    sys.path.append(os.path.join('..', '..')) # add the current directory\n",
    "    import lime\n",
    "from lime import lime_image\n"
   ]
  },
  {
   "cell_type": "code",
   "execution_count": null,
   "metadata": {},
   "outputs": [],
   "source": [
    "explainer = lime_image.LimeImageExplainer()"
   ]
  },
  {
   "cell_type": "code",
   "execution_count": null,
   "metadata": {},
   "outputs": [],
   "source": [
    "%%time\n",
    "# Hide color is the color for a superpixel turned OFF. Alternatively, if it is NONE, the superpixel will be replaced by the average of its pixels\n",
    "explantions = list()\n",
    "print(len(images))\n",
    "superpixel_fn =\"slic\"\n",
    "\n",
    "for image in images:\n",
    "    explantions.append(explainer.explain_instance(image,\n",
    "                                                  my_model.predict,\n",
    "                                                  hide_color=None,\n",
    "                                                  num_samples=100,\n",
    "                                                  segmentation_fn=superpixel_fn\n",
    "                                                 ))"
   ]
  },
  {
   "cell_type": "code",
   "execution_count": null,
   "metadata": {},
   "outputs": [],
   "source": [
    "for i in range(len(explantions)):\n",
    "    if data_type == 'tabak':\n",
    "        temp, mask = explantions[i].get_image_and_mask(0,\n",
    "                                                   positive_only=True,\n",
    "                                                   hide_rest=True,\n",
    "                                                   num_features=50)\n",
    "        print(getLabelById(getHighestID(preds[i])))\n",
    "        plt.figure()\n",
    "        plt.title(getLabelById(0))\n",
    "        plt.imshow(mark_boundaries(temp / 2 + 0.5, mask))\n",
    "        plt.show()\n",
    "        temp, mask = explantions[i].get_image_and_mask(1,\n",
    "                                                   positive_only=True,\n",
    "                                                   hide_rest=True,\n",
    "                                                   num_features=50)\n",
    "        plt.figure()\n",
    "        plt.title(getLabelById(1))\n",
    "        plt.imshow(mark_boundaries(temp / 2 + 0.5, mask))\n",
    "        plt.show()\n",
    "        print(\"_________\")        \n",
    "    else:\n",
    "        temp, mask = explantions[i].get_image_and_mask(getHighestID(preds[i]),\n",
    "                                                   positive_only=True,\n",
    "                                                   hide_rest=True,\n",
    "                                                   num_features=10)\n",
    "        print(getLabelById(getHighestID(preds[i]))) \n",
    "        plt.figure()\n",
    "        plt.imshow(mark_boundaries(temp / 2 + 0.5, mask))\n",
    "        plt.show()"
   ]
  },
  {
   "cell_type": "code",
   "execution_count": null,
   "metadata": {},
   "outputs": [],
   "source": []
  }
 ],
 "metadata": {
  "kernelspec": {
   "display_name": "masterarbeit",
   "language": "python",
   "name": "masterarbeit"
  },
  "language_info": {
   "codemirror_mode": {
    "name": "ipython",
    "version": 3
   },
   "file_extension": ".py",
   "mimetype": "text/x-python",
   "name": "python",
   "nbconvert_exporter": "python",
   "pygments_lexer": "ipython3",
   "version": "3.6.6"
  }
 },
 "nbformat": 4,
 "nbformat_minor": 2
}
