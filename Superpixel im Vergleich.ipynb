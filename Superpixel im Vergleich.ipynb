{
 "cells": [
  {
   "cell_type": "code",
   "execution_count": 17,
   "metadata": {},
   "outputs": [
    {
     "name": "stderr",
     "output_type": "stream",
     "text": [
      "C:\\Users\\schalllg\\AppData\\Local\\Continuum\\anaconda3\\lib\\site-packages\\skimage\\segmentation\\slic_superpixels.py:156: FutureWarning: Using a non-tuple sequence for multidimensional indexing is deprecated; use `arr[tuple(seq)]` instead of `arr[seq]`. In the future this will be interpreted as an array index, `arr[np.array(seq)]`, which will result either in an error or a different result.\n",
      "  segments_z = grid_z[slices]\n",
      "C:\\Users\\schalllg\\AppData\\Local\\Continuum\\anaconda3\\lib\\site-packages\\skimage\\segmentation\\slic_superpixels.py:157: FutureWarning: Using a non-tuple sequence for multidimensional indexing is deprecated; use `arr[tuple(seq)]` instead of `arr[seq]`. In the future this will be interpreted as an array index, `arr[np.array(seq)]`, which will result either in an error or a different result.\n",
      "  segments_y = grid_y[slices]\n",
      "C:\\Users\\schalllg\\AppData\\Local\\Continuum\\anaconda3\\lib\\site-packages\\skimage\\segmentation\\slic_superpixels.py:158: FutureWarning: Using a non-tuple sequence for multidimensional indexing is deprecated; use `arr[tuple(seq)]` instead of `arr[seq]`. In the future this will be interpreted as an array index, `arr[np.array(seq)]`, which will result either in an error or a different result.\n",
      "  segments_x = grid_x[slices]\n",
      "C:\\Users\\schalllg\\AppData\\Local\\Continuum\\anaconda3\\lib\\site-packages\\skimage\\util\\_regular_grid.py:103: FutureWarning: Using a non-tuple sequence for multidimensional indexing is deprecated; use `arr[tuple(seq)]` instead of `arr[seq]`. In the future this will be interpreted as an array index, `arr[np.array(seq)]`, which will result either in an error or a different result.\n",
      "  seed_img[grid] = 1 + np.reshape(np.arange(seed_img[grid].size),\n",
      "C:\\Users\\schalllg\\AppData\\Local\\Continuum\\anaconda3\\lib\\site-packages\\skimage\\util\\_regular_grid.py:104: FutureWarning: Using a non-tuple sequence for multidimensional indexing is deprecated; use `arr[tuple(seq)]` instead of `arr[seq]`. In the future this will be interpreted as an array index, `arr[np.array(seq)]`, which will result either in an error or a different result.\n",
      "  seed_img[grid].shape)\n",
      "C:\\Users\\schalllg\\AppData\\Local\\Continuum\\anaconda3\\lib\\site-packages\\skimage\\util\\arraycrop.py:175: FutureWarning: Using a non-tuple sequence for multidimensional indexing is deprecated; use `arr[tuple(seq)]` instead of `arr[seq]`. In the future this will be interpreted as an array index, `arr[np.array(seq)]`, which will result either in an error or a different result.\n",
      "  cropped = np.array(ar[slices], order=order, copy=True)\n",
      "C:\\Users\\schalllg\\AppData\\Local\\Continuum\\anaconda3\\lib\\site-packages\\skimage\\util\\dtype.py:130: UserWarning: Possible precision loss when converting from float64 to uint8\n",
      "  .format(dtypeobj_in, dtypeobj_out))\n"
     ]
    },
    {
     "name": "stdout",
     "output_type": "stream",
     "text": [
      "Felzenszwalb number of segments: 194\n",
      "SLIC number of segments: 190\n",
      "Quickshift number of segments: 695\n"
     ]
    },
    {
     "data": {
      "image/png": "[encoded data removed]",
      "text/plain": [
       "<Figure size 720x720 with 4 Axes>"
      ]
     },
     "metadata": {
      "needs_background": "light"
     },
     "output_type": "display_data"
    }
   ],
   "source": [
    "%matplotlib inline\n",
    "import matplotlib.pyplot as plt\n",
    "import numpy as np\n",
    "\n",
    "from skimage.data import astronaut\n",
    "from skimage import io\n",
    "from skimage.color import rgb2gray\n",
    "from skimage.filters import sobel\n",
    "from skimage.segmentation import felzenszwalb, slic, quickshift, watershed\n",
    "from skimage.segmentation import mark_boundaries\n",
    "from skimage.util import img_as_float\n",
    "\n",
    "img = img_as_float(astronaut()[::2, ::2])\n",
    "\n",
    "#segments_fz = felzenszwalb(img, scale=200, sigma=0.5, min_size=30)\n",
    "#segments_slic = slic(img, n_segments=60, compactness=3, sigma=1)\n",
    "#segments_quick = quickshift(img, kernel_size=4, max_dist=200, ratio=0.02)\n",
    "#gradient = sobel(rgb2gray(img))\n",
    "#segments_watershed = watershed(gradient, markers=200, compactness=0.001)\n",
    "segments_fz = felzenszwalb(img, scale=100, sigma=0.5, min_size=50)\n",
    "segments_slic = slic(img, n_segments=250, compactness=10, sigma=1)\n",
    "segments_quick = quickshift(img, kernel_size=3, max_dist=6, ratio=0.5)\n",
    "gradient = sobel(rgb2gray(img))\n",
    "segments_watershed = watershed(gradient, markers=250, compactness=0.001)\n",
    "\n",
    "print(\"Felzenszwalb number of segments: {}\".format(len(np.unique(segments_fz))))\n",
    "print('SLIC number of segments: {}'.format(len(np.unique(segments_slic))))\n",
    "print('Quickshift number of segments: {}'.format(len(np.unique(segments_quick))))\n",
    "\n",
    "fig, ax = plt.subplots(2, 2, figsize=(10, 10), sharex=True, sharey=True)\n",
    "\n",
    "#ax[0, 0].imshow(mark_boundaries(img, segments_fz))\n",
    "#ax[0, 0].set_title(\"Felzenszwalbs's method\")\n",
    "io.imsave('Felzenszwalb.png',mark_boundaries(img, segments_fz))\n",
    "#ax[0, 1].imshow(mark_boundaries(img, segments_slic))\n",
    "#ax[0, 1].set_title('SLIC')\n",
    "io.imsave('SLIC.png',mark_boundaries(img, segments_slic))\n",
    "#ax[1, 0].imshow(mark_boundaries(img, segments_quick))\n",
    "#ax[1, 0].set_title('Quickshift')\n",
    "io.imsave('Quickshift.png',mark_boundaries(img, segments_quick))\n",
    "x = mark_boundaries(img, segments_watershed)\n",
    "io.imsave(\"Compact watershed.png\",x)\n",
    "#ax[1, 1].imshow(x)\n",
    "#ax[1, 1].set_title('Compact watershed')\n",
    "\n",
    "for a in ax.ravel():\n",
    "    a.set_axis_off()\n",
    "\n",
    "plt.tight_layout()\n",
    "plt.show()"
   ]
  },
  {
   "cell_type": "code",
   "execution_count": null,
   "metadata": {},
   "outputs": [],
   "source": []
  }
 ],
 "metadata": {
  "kernelspec": {
   "display_name": "Python 3",
   "language": "python",
   "name": "python3"
  },
  "language_info": {
   "codemirror_mode": {
    "name": "ipython",
    "version": 3
   },
   "file_extension": ".py",
   "mimetype": "text/x-python",
   "name": "python",
   "nbconvert_exporter": "python",
   "pygments_lexer": "ipython3",
   "version": "3.7.3"
  }
 },
 "nbformat": 4,
 "nbformat_minor": 2
}
