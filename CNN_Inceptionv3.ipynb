{
 "cells": [
  {
   "cell_type": "code",
   "execution_count": 1,
   "metadata": {},
   "outputs": [
    {
     "name": "stderr",
     "output_type": "stream",
     "text": [
      "Using TensorFlow backend.\n"
     ]
    }
   ],
   "source": [
    "import numpy as np\n",
    "import cv2\n",
    "import matplotlib.pyplot as plt\n",
    "#from keras.models import model_from_json\n",
    "from datetime import datetime\n",
    "from keras.applications import inception_v3 as inc_net\n",
    "from keras.models import Sequential\n",
    "from keras.models import Model\n",
    "from keras.layers import Dense, GlobalAveragePooling2D#, GlobalMaxPooling2D \n",
    "from keras.models import load_model\n",
    "from keras.callbacksTest import TensorBoard\n",
    "from keras.callbacks import ModelCheckpoint\n",
    "from keras.optimizers import SGD, Adam\n",
    "from keras.preprocessing.image import ImageDataGenerator\n",
    "import os"
   ]
  },
  {
   "cell_type": "code",
   "execution_count": 2,
   "metadata": {},
   "outputs": [],
   "source": [
    "img_size = 299\n",
    "my_epochs_basic = 3\n",
    "my_epochs_retrain = 12\n",
    "is_shuffle = True\n",
    "write_batch_per = True\n",
    "\n",
    "data_type = 'mushrooms24'\n",
    "if(data_type == 'mushrooms128'):\n",
    "    num_classes = 128\n",
    "    my_batch_size = 128\n",
    "    my_steps_per_epoch = 850\n",
    "    my_val_steps = 18\n",
    "elif(data_type == 'mushrooms24'):\n",
    "    num_classes = 24\n",
    "    my_batch_size = 64\n",
    "    my_steps_per_epoch = 376\n",
    "    my_val_steps = 18\n",
    "elif(data_type == 'flowers'):\n",
    "    num_classes = 5\n",
    "    my_batch_size = 16\n",
    "    my_steps_per_epoch = 188\n",
    "    my_val_steps = 42\n",
    "data_path_train = os.path.join('data',data_type,'train')\n",
    "data_path_test = os.path.join('data',data_type,'test')"
   ]
  },
  {
   "cell_type": "code",
   "execution_count": 3,
   "metadata": {},
   "outputs": [
    {
     "name": "stdout",
     "output_type": "stream",
     "text": [
      "InceptionV3 loaded\n"
     ]
    }
   ],
   "source": [
    "# idk needs a loot of improvement, but just for testing\n",
    "base_model = inc_net.InceptionV3(weights='imagenet', include_top=False)\n",
    "print(\"InceptionV3 loaded\")\n",
    "x = base_model.output\n",
    "x = GlobalAveragePooling2D()(x)\n",
    "# let's add a fully-connected layer\n",
    "x = Dense(1024, activation='relu')(x)\n",
    "# and a logistic layer -- let's say we have 200 classes\n",
    "predictions = Dense(num_classes, activation='softmax')(x)\n",
    "model = Model(inputs=base_model.input, outputs=predictions)\n",
    "\n",
    "#freezing all layers\n",
    "for layer in base_model.layers:\n",
    "    layer.trainable = False\n",
    "\n",
    "model.compile(optimizer='rmsprop', loss='categorical_crossentropy', metrics=['accuracy'])"
   ]
  },
  {
   "cell_type": "code",
   "execution_count": 4,
   "metadata": {},
   "outputs": [
    {
     "name": "stdout",
     "output_type": "stream",
     "text": [
      "Found 24067 images belonging to 24 classes.\n",
      "Found 1274 images belonging to 24 classes.\n"
     ]
    }
   ],
   "source": [
    "train_datagen = ImageDataGenerator(rescale=1./255, shear_range=0.2, zoom_range = 0.2, horizontal_flip=True)\n",
    "test_datagen = ImageDataGenerator(rescale=1./255)\n",
    "training_set= train_datagen.flow_from_directory(data_path_train,\n",
    "                                                target_size = (img_size, img_size),\n",
    "                                                batch_size=my_batch_size,\n",
    "                                                class_mode='categorical')\n",
    "val_set = test_datagen.flow_from_directory(data_path_test,\n",
    "                                           target_size= (img_size, img_size),\n",
    "                                           batch_size=my_batch_size,\n",
    "                                           class_mode='categorical')"
   ]
  },
  {
   "cell_type": "code",
   "execution_count": 5,
   "metadata": {},
   "outputs": [
    {
     "name": "stdout",
     "output_type": "stream",
     "text": [
      "Epoch 1/3\n",
      "376/376 [==============================] - 749s 2s/step - loss: 2.2052 - acc: 0.3748 - val_loss: 1.9689 - val_acc: 0.4141\n",
      "Epoch 2/3\n",
      "376/376 [==============================] - 660s 2s/step - loss: 1.5036 - acc: 0.5448 - val_loss: 2.7374 - val_acc: 0.3238\n",
      "Epoch 3/3\n",
      "376/376 [==============================] - 571s 2s/step - loss: 1.3048 - acc: 0.6006 - val_loss: 2.1553 - val_acc: 0.4340\n"
     ]
    },
    {
     "data": {
      "text/plain": [
       "<keras.callbacks.History at 0x7fefb8ade198>"
      ]
     },
     "execution_count": 5,
     "metadata": {},
     "output_type": "execute_result"
    }
   ],
   "source": [
    "time_of_test = str(datetime.now().strftime(\"%d-%m-%y %H:%M\"))\n",
    "file_name= time_of_test+'_Epochs'+str(my_epochs_basic)+'_Steps'+str(my_steps_per_epoch)+'_ImageSize'+str(img_size)+'_BatchSize'+str(my_batch_size)\n",
    "\n",
    "log_path = os.path.join('logs',data_type,'pretrain','')\n",
    "model_path = os.path.join('trainedModels',data_type,'pretrain','')\n",
    "if not os.path.exists(log_path):\n",
    "    os.makedirs(log_path)\n",
    "if not os.path.exists(model_path):\n",
    "    os.makedirs(model_path)\n",
    "\n",
    "model.fit_generator(training_set,\n",
    "                    steps_per_epoch=my_steps_per_epoch,\n",
    "                    epochs=my_epochs_basic,\n",
    "                    validation_data=val_set,\n",
    "                    validation_steps=my_val_steps,\n",
    "                    shuffle=is_shuffle,\n",
    "                    callbacks=[\n",
    "                        TensorBoard(\n",
    "                            log_dir=log_path,\n",
    "                            write_batch_performance=write_batch_per)]\n",
    "                   )"
   ]
  },
  {
   "cell_type": "code",
   "execution_count": 6,
   "metadata": {},
   "outputs": [
    {
     "name": "stdout",
     "output_type": "stream",
     "text": [
      "trainedModels/mushrooms24/pretrain/05-07-18 21:27_Epochs3_Steps376_ImageSize299_BatchSize64.h5\n",
      "Saved model to disk as> 05-07-18 21:27_Epochs3_Steps376_ImageSize299_BatchSize64\n"
     ]
    }
   ],
   "source": [
    "# SAVE THE CURRENT MODEL\n",
    "print(model_path+file_name+'.h5')\n",
    "model.save(model_path+file_name+'.h5')  # creates a HDF5 file 'my_model.h5'\n",
    "print(\"Saved model to disk as> \"+file_name)"
   ]
  },
  {
   "cell_type": "code",
   "execution_count": 17,
   "metadata": {},
   "outputs": [
    {
     "name": "stdout",
     "output_type": "stream",
     "text": [
      "Model loaded> 05-07-18 21:27_Epochs3_Steps376_ImageSize299_BatchSize64\n"
     ]
    }
   ],
   "source": [
    "# LOAD THE CURRENT MODEL\n",
    "#file_name= '05-07-18 21:27_Epochs3_Steps376_ImageSize299_BatchSize64'\n",
    "model = load_model(model_path+file_name+'.h5')\n",
    "print('Model loaded> '+file_name)"
   ]
  },
  {
   "cell_type": "code",
   "execution_count": 18,
   "metadata": {},
   "outputs": [],
   "source": [
    "#tbCallBack_finetune = TensorBoard(log_dir='./graph', histogram_freq=0, write_graph=True, write_images=True)\n",
    "for layer in model.layers[:249]:\n",
    "   layer.trainable = False\n",
    "for layer in model.layers[249:]:\n",
    "   layer.trainable = True\n",
    "# we need to recompile the model for these modifications to take effect\n",
    "# we use SGD with a low learning rate\n",
    "\n",
    "#model.compile(optimizer=SGD(lr=0.0001, momentum=0.9), loss='categorical_crossentropy', metrics=['accuracy'])\n",
    "model.compile(optimizer=Adam(lr=0.001, beta_1=0.9, beta_2=0.999, epsilon=None, decay=0.0, amsgrad=True), loss='categorical_crossentropy', metrics=['accuracy'] )"
   ]
  },
  {
   "cell_type": "code",
   "execution_count": 19,
   "metadata": {},
   "outputs": [
    {
     "name": "stdout",
     "output_type": "stream",
     "text": [
      "Epoch 1/12\n",
      "376/376 [==============================] - 591s 2s/step - loss: 0.9420 - acc: 0.7157 - val_loss: 1.1257 - val_acc: 0.7161\n",
      "\n",
      "Epoch 00001: saving model to ./ModelCheckpoints/05-07-18 22:24__weights.01-val_acc0.72--train_acc0.72.hdf5\n",
      "Epoch 2/12\n",
      "376/376 [==============================] - 574s 2s/step - loss: 0.4702 - acc: 0.8528 - val_loss: 1.3752 - val_acc: 0.7066\n",
      "\n",
      "Epoch 00002: saving model to ./ModelCheckpoints/05-07-18 22:24__weights.02-val_acc0.71--train_acc0.85.hdf5\n",
      "Epoch 3/12\n",
      "376/376 [==============================] - 572s 2s/step - loss: 0.2932 - acc: 0.9055 - val_loss: 1.3793 - val_acc: 0.7075\n",
      "\n",
      "Epoch 00003: saving model to ./ModelCheckpoints/05-07-18 22:24__weights.03-val_acc0.71--train_acc0.91.hdf5\n",
      "Epoch 4/12\n",
      "376/376 [==============================] - 571s 2s/step - loss: 0.2288 - acc: 0.9286 - val_loss: 1.6370 - val_acc: 0.6901\n",
      "\n",
      "Epoch 00004: saving model to ./ModelCheckpoints/05-07-18 22:24__weights.04-val_acc0.69--train_acc0.93.hdf5\n",
      "Epoch 5/12\n",
      "376/376 [==============================] - 571s 2s/step - loss: 0.1790 - acc: 0.9433 - val_loss: 1.1562 - val_acc: 0.7378\n",
      "\n",
      "Epoch 00005: saving model to ./ModelCheckpoints/05-07-18 22:24__weights.05-val_acc0.74--train_acc0.94.hdf5\n",
      "Epoch 6/12\n",
      "376/376 [==============================] - 569s 2s/step - loss: 0.1537 - acc: 0.9509 - val_loss: 1.1514 - val_acc: 0.7717\n",
      "\n",
      "Epoch 00006: saving model to ./ModelCheckpoints/05-07-18 22:24__weights.06-val_acc0.77--train_acc0.95.hdf5\n",
      "Epoch 7/12\n",
      "376/376 [==============================] - 567s 2s/step - loss: 0.1218 - acc: 0.9627 - val_loss: 1.3324 - val_acc: 0.7292\n",
      "\n",
      "Epoch 00007: saving model to ./ModelCheckpoints/05-07-18 22:24__weights.07-val_acc0.73--train_acc0.96.hdf5\n",
      "Epoch 8/12\n",
      "376/376 [==============================] - 567s 2s/step - loss: 0.1044 - acc: 0.9670 - val_loss: 1.5350 - val_acc: 0.7318\n",
      "\n",
      "Epoch 00008: saving model to ./ModelCheckpoints/05-07-18 22:24__weights.08-val_acc0.73--train_acc0.97.hdf5\n",
      "Epoch 9/12\n",
      "376/376 [==============================] - 566s 2s/step - loss: 0.1387 - acc: 0.9610 - val_loss: 1.3203 - val_acc: 0.7483\n",
      "\n",
      "Epoch 00009: saving model to ./ModelCheckpoints/05-07-18 22:24__weights.09-val_acc0.75--train_acc0.96.hdf5\n",
      "Epoch 10/12\n",
      "376/376 [==============================] - 578s 2s/step - loss: 0.0881 - acc: 0.9721 - val_loss: 1.2728 - val_acc: 0.7439\n",
      "\n",
      "Epoch 00010: saving model to ./ModelCheckpoints/05-07-18 22:24__weights.10-val_acc0.74--train_acc0.97.hdf5\n",
      "Epoch 11/12\n",
      "376/376 [==============================] - 570s 2s/step - loss: 0.0865 - acc: 0.9730 - val_loss: 1.3583 - val_acc: 0.7370\n",
      "\n",
      "Epoch 00011: saving model to ./ModelCheckpoints/05-07-18 22:24__weights.11-val_acc0.74--train_acc0.97.hdf5\n",
      "Epoch 12/12\n",
      "376/376 [==============================] - 564s 2s/step - loss: 0.0961 - acc: 0.9689 - val_loss: 1.3958 - val_acc: 0.7535\n",
      "\n",
      "Epoch 00012: saving model to ./ModelCheckpoints/05-07-18 22:24__weights.12-val_acc0.75--train_acc0.97.hdf5\n"
     ]
    },
    {
     "data": {
      "text/plain": [
       "<keras.callbacks.History at 0x7fef94c06710>"
      ]
     },
     "execution_count": 19,
     "metadata": {},
     "output_type": "execute_result"
    }
   ],
   "source": [
    "time_of_real = str(datetime.now().strftime(\"%d-%m-%y %H:%M\"))\n",
    "file_name = time_of_real+'__Epochs'+str(my_epochs_retrain)+'_Steps'+str(my_steps_per_epoch)+'_ImageSize'+str(img_size)+'_BatchSize'+str(my_batch_size)\n",
    "log_path = os.path.join('logs',data_type,'completetrain','')\n",
    "#model.load_weights('./ModelCheckpoints/26-06-18 16:15__weights.11-2.52.hdf5')\n",
    "\n",
    "if not os.path.exists(log_path):\n",
    "    os.makedirs(log_path)\n",
    "\n",
    "    \n",
    "model.fit_generator(training_set,\n",
    "                    steps_per_epoch=my_steps_per_epoch,\n",
    "                    epochs=my_epochs_retrain, \n",
    "                    validation_data=val_set,\n",
    "                    validation_steps=my_val_steps,\n",
    "                    shuffle=is_shuffle,\n",
    "                    #initial_epoch=10,\n",
    "                    callbacks=[TensorBoard(log_dir=log_path,\n",
    "                                           write_batch_performance=write_batch_per),\n",
    "                              ModelCheckpoint('./ModelCheckpoints/'\n",
    "                                              +time_of_real\n",
    "                                              +'__weights.{epoch:02d}-val_acc{val_acc:.2f}--train_acc{acc:.2f}.hdf5',\n",
    "                                              monitor='val_loss',\n",
    "                                              verbose=1,\n",
    "                                              save_best_only=False,\n",
    "                                              save_weights_only=False,\n",
    "                                              mode='auto',\n",
    "                                              period=1)\n",
    "                              ]\n",
    "                   )"
   ]
  },
  {
   "cell_type": "code",
   "execution_count": 20,
   "metadata": {},
   "outputs": [
    {
     "name": "stdout",
     "output_type": "stream",
     "text": [
      "try to save modeltrainedModels/mushrooms24/completetrain/05-07-18 22:24__Epochs12_Steps376_ImageSize299_BatchSize64.h5\n",
      "Saved model to disk as> 05-07-18 22:24__Epochs12_Steps376_ImageSize299_BatchSize64\n"
     ]
    }
   ],
   "source": [
    "## SAVE THE MODEL\n",
    "model_path = os.path.join('trainedModels',data_type,'completetrain','')\n",
    "if not os.path.exists(model_path):\n",
    "    os.makedirs(model_path)\n",
    "print('try to save model'+\n",
    "      model_path+file_name+'.h5')\n",
    "model.save( model_path+file_name+'.h5')  # creates a HDF5 file 'my_model.h5'\n",
    "print(\"Saved model to disk as> \"+file_name)"
   ]
  },
  {
   "cell_type": "code",
   "execution_count": null,
   "metadata": {},
   "outputs": [],
   "source": []
  }
 ],
 "metadata": {
  "kernelspec": {
   "display_name": "Python 3",
   "language": "python",
   "name": "python3"
  },
  "language_info": {
   "codemirror_mode": {
    "name": "ipython",
    "version": 3
   },
   "file_extension": ".py",
   "mimetype": "text/x-python",
   "name": "python",
   "nbconvert_exporter": "python",
   "pygments_lexer": "ipython3",
   "version": "3.6.5"
  }
 },
 "nbformat": 4,
 "nbformat_minor": 2
}
