{
 "cells": [
  {
   "cell_type": "code",
   "execution_count": 1,
   "metadata": {},
   "outputs": [
    {
     "name": "stderr",
     "output_type": "stream",
     "text": [
      "Using TensorFlow backend.\n"
     ]
    }
   ],
   "source": [
    "import numpy as np\n",
    "import cv2\n",
    "import matplotlib.pyplot as plt\n",
    "#from keras.models import model_from_json\n",
    "from datetime import datetime\n",
    "from keras.applications import inception_v3 as inc_net\n",
    "from keras.models import Sequential\n",
    "from keras.models import Model\n",
    "from keras.layers import Dense, GlobalAveragePooling2D#, GlobalMaxPooling2D \n",
    "from keras.models import load_model\n",
    "from keras.callbacksTest import TensorBoard\n",
    "from keras.callbacks import ModelCheckpoint\n",
    "from keras.optimizers import SGD, Adam\n",
    "from keras.preprocessing.image import ImageDataGenerator\n",
    "import os"
   ]
  },
  {
   "cell_type": "code",
   "execution_count": 3,
   "metadata": {},
   "outputs": [],
   "source": [
    "num_classes = 128\n",
    "img_size = 299\n",
    "my_batch_size = 128\n",
    "my_steps_per_epoch = 850\n",
    "my_val_steps = 18\n",
    "my_epochs_basic = 3\n",
    "my_epochs_retrain = 12\n",
    "is_shuffle = True\n",
    "write_batch_per = True"
   ]
  },
  {
   "cell_type": "code",
   "execution_count": 4,
   "metadata": {},
   "outputs": [],
   "source": [
    "# idk needs a loot of improvement, but just for testing\n",
    "base_model = inc_net.InceptionV3(weights='imagenet', include_top=False)\n",
    "print(\"InceptionV3 loaded\")\n",
    "x = base_model.output\n",
    "x = GlobalAveragePooling2D()(x)\n",
    "# let's add a fully-connected layer\n",
    "x = Dense(1024, activation='relu')(x)\n",
    "# and a logistic layer -- let's say we have 200 classes\n",
    "predictions = Dense(num_classes, activation='softmax')(x)\n",
    "model = Model(inputs=base_model.input, outputs=predictions)\n",
    "\n",
    "#freezing all layers\n",
    "for layer in base_model.layers:\n",
    "    layer.trainable = False\n",
    "\n",
    "model.compile(optimizer='rmsprop', loss='categorical_crossentropy', metrics=['accuracy'])"
   ]
  },
  {
   "cell_type": "code",
   "execution_count": 4,
   "metadata": {},
   "outputs": [
    {
     "name": "stdout",
     "output_type": "stream",
     "text": [
      "Found 107874 images belonging to 128 classes.\n",
      "Found 2232 images belonging to 128 classes.\n"
     ]
    }
   ],
   "source": [
    "train_datagen = ImageDataGenerator(rescale=1./255, shear_range=0.2, zoom_range = 0.2, horizontal_flip=True)\n",
    "test_datagen = ImageDataGenerator(rescale=1./255)\n",
    "training_set= train_datagen.flow_from_directory('./data/mushrooms_filled/train/',\n",
    "                                                target_size = (img_size, img_size),\n",
    "                                                batch_size=my_batch_size,\n",
    "                                                class_mode='categorical')\n",
    "val_set = test_datagen.flow_from_directory('./data/mushrooms_filled/test/',\n",
    "                                           target_size= (img_size, img_size),\n",
    "                                           batch_size=my_batch_size,\n",
    "                                           class_mode='categorical')"
   ]
  },
  {
   "cell_type": "code",
   "execution_count": 6,
   "metadata": {},
   "outputs": [
    {
     "name": "stdout",
     "output_type": "stream",
     "text": [
      "Epoch 1/3\n",
      "850/850 [==============================] - 4455s 5s/step - loss: 2.9137 - acc: 0.3123 - val_loss: 3.7003 - val_acc: 0.2020\n",
      "Epoch 2/3\n",
      "850/850 [==============================] - 4434s 5s/step - loss: 1.8478 - acc: 0.5226 - val_loss: 3.8245 - val_acc: 0.2113\n",
      "Epoch 3/3\n",
      "850/850 [==============================] - 4368s 5s/step - loss: 1.4674 - acc: 0.6078 - val_loss: 3.9684 - val_acc: 0.2230\n"
     ]
    },
    {
     "data": {
      "text/plain": [
       "<keras.callbacks.History at 0x7fccf9958f98>"
      ]
     },
     "execution_count": 6,
     "metadata": {},
     "output_type": "execute_result"
    }
   ],
   "source": [
    "time_of_test = str(datetime.now().strftime(\"%d-%m-%y %H:%M\"))\n",
    "dir_file_name= time_of_test+'_Epochs'+str(my_epochs_basic)+'_Steps'+str(my_steps_per_epoch)+'_ImageSize'+str(img_size)+'_BatchSize'+str(my_batch_size)\n",
    "file_name = 'mushrooms_pretrain_'+dir_file_name+'.h5'\n",
    "path = './logs/pretrain/'+dir_file_name\n",
    "if not os.path.exists(path):\n",
    "    os.mkdir(path)\n",
    "model.fit_generator(training_set,\n",
    "                    steps_per_epoch=my_steps_per_epoch,\n",
    "                    epochs=my_epochs_basic,\n",
    "                    validation_data=val_set,\n",
    "                    validation_steps=50,\n",
    "                    shuffle=is_shuffle,\n",
    "                    callbacks=[TensorBoard(log_dir=path, write_batch_performance=write_batch_per)])"
   ]
  },
  {
   "cell_type": "code",
   "execution_count": 7,
   "metadata": {},
   "outputs": [
    {
     "name": "stdout",
     "output_type": "stream",
     "text": [
      "Saved model to disk as> mushrooms_pretrain_25-06-18 15:18_Epochs3_Steps850_ImageSize299_BatchSize128.h5\n"
     ]
    }
   ],
   "source": [
    "# SAVE THE CURRENT MODEL\n",
    "model.save('./trainedModels/pretrain/'+file_name)  # creates a HDF5 file 'my_model.h5'\n",
    "print(\"Saved model to disk as> \"+file_name)"
   ]
  },
  {
   "cell_type": "code",
   "execution_count": 5,
   "metadata": {},
   "outputs": [
    {
     "name": "stdout",
     "output_type": "stream",
     "text": [
      "Model loaded> ./trainedModels/pretrain/mushrooms_pretrain_25-06-18 15:18_Epochs3_Steps850_ImageSize299_BatchSize128.h5\n"
     ]
    }
   ],
   "source": [
    "# LOAD THE CURRENT MODEL\n",
    "#print()\n",
    "file_name= './trainedModels/pretrain/mushrooms_pretrain_25-06-18 15:18_Epochs3_Steps850_ImageSize299_BatchSize128.h5'\n",
    "model = load_model(file_name)\n",
    "\n",
    "print('Model loaded> '+file_name)"
   ]
  },
  {
   "cell_type": "code",
   "execution_count": 6,
   "metadata": {},
   "outputs": [],
   "source": [
    "#tbCallBack_finetune = TensorBoard(log_dir='./graph', histogram_freq=0, write_graph=True, write_images=True)\n",
    "for layer in model.layers[:249]:\n",
    "   layer.trainable = False\n",
    "for layer in model.layers[249:]:\n",
    "   layer.trainable = True\n",
    "# we need to recompile the model for these modifications to take effect\n",
    "# we use SGD with a low learning rate\n",
    "\n",
    "#model.compile(optimizer=SGD(lr=0.0001, momentum=0.9), loss='categorical_crossentropy', metrics=['accuracy'])\n",
    "model.compile(optimizer=Adam(lr=0.001, beta_1=0.9, beta_2=0.999, epsilon=None, decay=0.0, amsgrad=True), loss='categorical_crossentropy', metrics=['accuracy'] )"
   ]
  },
  {
   "cell_type": "code",
   "execution_count": 9,
   "metadata": {},
   "outputs": [
    {
     "name": "stdout",
     "output_type": "stream",
     "text": [
      "Epoch 1/1\n",
      "1/1 [==============================] - 37s 37s/step - loss: 0.0715 - acc: 0.9844 - val_loss: 2.7709 - val_acc: 0.5176\n",
      "\n",
      "Epoch 00001: saving model to ./ModelCheckpoints/26-06-18 23:26__weights.01-val_acc0.52--train_acc0.98.hdf5\n"
     ]
    },
    {
     "data": {
      "text/plain": [
       "<keras.callbacks.History at 0x7fb34c4dafd0>"
      ]
     },
     "execution_count": 9,
     "metadata": {},
     "output_type": "execute_result"
    }
   ],
   "source": [
    "time_of_real = str(datetime.now().strftime(\"%d-%m-%y %H:%M\"))\n",
    "dir_file_name= time_of_real+'__Epochs'+str(my_epochs_retrain)+'_Steps'+str(my_steps_per_epoch)+'_ImageSize'+str(img_size)+'_BatchSize'+str(my_batch_size)\n",
    "file_name = dir_file_name+'.h5'\n",
    "path = './logs/realtrain/'+dir_file_name\n",
    "\n",
    "model.load_weights('./ModelCheckpoints/26-06-18 16:15__weights.11-2.52.hdf5')\n",
    "\n",
    "if not os.path.exists(path):\n",
    "    os.mkdir(path)\n",
    "\n",
    "model.fit_generator(training_set,\n",
    "                    steps_per_epoch=10,\n",
    "                    epochs=1, \n",
    "                    validation_data=val_set,\n",
    "                    validation_steps=16,\n",
    "                    shuffle=is_shuffle,\n",
    "                    #initial_epoch=11,\n",
    "                    callbacks=[TensorBoard(log_dir=path,\n",
    "                                           write_batch_performance=write_batch_per),\n",
    "                              ModelCheckpoint('./ModelCheckpoints/'\n",
    "                                              +time_of_real\n",
    "                                              +'__weights.{epoch:02d}-val_acc{val_acc:.2f}--train_acc{acc:.2f}.hdf5',\n",
    "                                              monitor='val_loss',\n",
    "                                              verbose=1,\n",
    "                                              save_best_only=False,\n",
    "                                              save_weights_only=False,\n",
    "                                              mode='auto',\n",
    "                                              period=1)\n",
    "                              ]\n",
    "                   )"
   ]
  },
  {
   "cell_type": "code",
   "execution_count": 8,
   "metadata": {},
   "outputs": [
    {
     "name": "stdout",
     "output_type": "stream",
     "text": [
      "try to save model\n",
      "Saved model to disk asmushrooms_realtrain_26-06-18 21:40__Epochs12_Steps850_ImageSize299_BatchSize128.h5\n"
     ]
    }
   ],
   "source": [
    "## SAVE THE MODEL\n",
    "print('try to save model')\n",
    "model.save('./trainedModels/retrain/'+file_name)  # creates a HDF5 file 'my_model.h5'\n",
    "print(\"Saved model to disk as> \"+file_name)"
   ]
  },
  {
   "cell_type": "code",
   "execution_count": null,
   "metadata": {},
   "outputs": [],
   "source": []
  }
 ],
 "metadata": {
  "kernelspec": {
   "display_name": "Python 3",
   "language": "python",
   "name": "python3"
  },
  "language_info": {
   "codemirror_mode": {
    "name": "ipython",
    "version": 3
   },
   "file_extension": ".py",
   "mimetype": "text/x-python",
   "name": "python",
   "nbconvert_exporter": "python",
   "pygments_lexer": "ipython3",
   "version": "3.6.5"
  }
 },
 "nbformat": 4,
 "nbformat_minor": 2
}
