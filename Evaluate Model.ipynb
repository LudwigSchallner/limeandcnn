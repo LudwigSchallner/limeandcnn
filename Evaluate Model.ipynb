{
 "cells": [
  {
   "cell_type": "code",
   "execution_count": 1,
   "metadata": {},
   "outputs": [
    {
     "name": "stderr",
     "output_type": "stream",
     "text": [
      "Using TensorFlow backend.\n"
     ]
    }
   ],
   "source": [
    "from keras.models import load_model\n",
    "from imutils import paths\n",
    "from keras.preprocessing.image import ImageDataGenerator\n",
    "\n",
    "#model = load_model(\"/run/media/eisbergsalat/Transcend/Code/output/tabak/ResNet_tabak_loss0.1800.h5\")\n",
    "model = load_model(\"./output/tabak/ResNet_tabak_loss0.146023.h5\")\n",
    "img_size = 224"
   ]
  },
  {
   "cell_type": "code",
   "execution_count": 2,
   "metadata": {},
   "outputs": [
    {
     "name": "stdout",
     "output_type": "stream",
     "text": [
      "Found 48 images belonging to 2 classes.\n",
      "['loss', 'acc']\n",
      "[0.7524372339248657, 0.5]\n"
     ]
    }
   ],
   "source": [
    "#TEST_PATH = \"/run/media/eisbergsalat/Transcend/Code/data/100TestImages/evaluate/\"\n",
    "TEST_PATH = \"./data/tabak/test/\"\n",
    "\n",
    "totalTest = len(list(paths.list_images(TEST_PATH)))\n",
    "testAug = ImageDataGenerator(rescale=1 / 255.0)\n",
    "testGen = testAug.flow_from_directory(\n",
    "    TEST_PATH,\n",
    "    class_mode=\"categorical\",\n",
    "    target_size=(img_size, img_size),\n",
    "    #color_mode=\"rgb\",\n",
    "    #shuffle=False,\n",
    "    batch_size=32)\n",
    "\n",
    "x = model.evaluate_generator(testGen, steps=(totalTest/32))\n",
    "print(model.metrics_names)\n",
    "print(x)"
   ]
  },
  {
   "cell_type": "code",
   "execution_count": 3,
   "metadata": {},
   "outputs": [
    {
     "name": "stdout",
     "output_type": "stream",
     "text": [
      "Found 652 images belonging to 2 classes.\n",
      "['loss', 'acc']\n",
      "[0.44597551756841275, 0.9125766874822371]\n"
     ]
    }
   ],
   "source": [
    "#TEST_PATH = \"/mnt/Multimedia/GitHub/Code/data/malaria/test/\"# \"/run/media/eisbergsalat/Transcend/Code/data/100TestImages/evaluate/\"\n",
    "TEST_PATH = \"./data/tabak/train/\"\n",
    "totalTest = len(list(paths.list_images(TEST_PATH)))\n",
    "testAug = ImageDataGenerator(rescale=1 / 255.0,\n",
    "                            rotation_range=45,\n",
    "                            zoom_range=0.15,\n",
    "                            width_shift_range=0.20,\n",
    "                            height_shift_range=0.20,\n",
    "                            shear_range=0.20,\n",
    "                            horizontal_flip=True,\n",
    "                            fill_mode=\"nearest\")\n",
    "testGen = testAug.flow_from_directory(\n",
    "    TEST_PATH,\n",
    "    class_mode=\"categorical\",\n",
    "    target_size=(img_size, img_size),\n",
    "    #color_mode=\"rgb\",\n",
    "    #shuffle=False,\n",
    "    batch_size=32)\n",
    "\n",
    "x = model.evaluate_generator(testGen, steps=(totalTest/32))\n",
    "print(model.metrics_names)\n",
    "print(x)"
   ]
  },
  {
   "cell_type": "code",
   "execution_count": 4,
   "metadata": {},
   "outputs": [
    {
     "name": "stdout",
     "output_type": "stream",
     "text": [
      "Found 2756 images belonging to 2 classes.\n",
      "['loss', 'acc']\n",
      "[0.09700870968087837, 0.965166908563135]\n"
     ]
    }
   ],
   "source": [
    "TEST_PATH = \"/mnt/Multimedia/GitHub/Code/data/malaria/val/\"# \"/run/media/eisbergsalat/Transcend/Code/data/100TestImages/evaluate/\"\n",
    "totalTest = len(list(paths.list_images(TEST_PATH)))\n",
    "testAug = ImageDataGenerator(rescale=1 / 255.0)\n",
    "testGen = testAug.flow_from_directory(\n",
    "    TEST_PATH,\n",
    "    class_mode=\"categorical\",\n",
    "    target_size=(img_size, img_size),\n",
    "    batch_size=32)\n",
    "\n",
    "x = model.evaluate_generator(testGen, steps=(totalTest/32))\n",
    "print(model.metrics_names)\n",
    "print(x)"
   ]
  },
  {
   "cell_type": "code",
   "execution_count": 5,
   "metadata": {},
   "outputs": [
    {
     "name": "stdout",
     "output_type": "stream",
     "text": [
      "Found 22046 images belonging to 2 classes.\n",
      "['loss', 'acc']\n",
      "[0.05732095978527539, 0.9781819831261906]\n"
     ]
    }
   ],
   "source": [
    "TEST_PATH = \"/mnt/Multimedia/GitHub/Code/data/malaria/train/\"# \"/run/media/eisbergsalat/Transcend/Code/data/100TestImages/evaluate/\"\n",
    "totalTest = len(list(paths.list_images(TEST_PATH)))\n",
    "testAug = ImageDataGenerator(\n",
    "    rescale=1 / 255.0,\n",
    "\thorizontal_flip=True,\n",
    "    vertical_flip=True,\n",
    "\tfill_mode=\"nearest\")\n",
    "testGen = testAug.flow_from_directory(\n",
    "    TEST_PATH,\n",
    "    class_mode=\"categorical\",\n",
    "    target_size=(img_size, img_size),\n",
    "    batch_size=32)\n",
    "\n",
    "x = model.evaluate_generator(testGen, steps=(totalTest/32))\n",
    "print(model.metrics_names)\n",
    "print(x)"
   ]
  },
  {
   "cell_type": "code",
   "execution_count": null,
   "metadata": {},
   "outputs": [],
   "source": []
  }
 ],
 "metadata": {
  "kernelspec": {
   "display_name": "Python 3",
   "language": "python",
   "name": "python3"
  },
  "language_info": {
   "codemirror_mode": {
    "name": "ipython",
    "version": 3
   },
   "file_extension": ".py",
   "mimetype": "text/x-python",
   "name": "python",
   "nbconvert_exporter": "python",
   "pygments_lexer": "ipython3",
   "version": "3.6.8"
  }
 },
 "nbformat": 4,
 "nbformat_minor": 2
}
